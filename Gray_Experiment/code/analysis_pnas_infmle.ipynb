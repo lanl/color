{
 "cells": [
  {
   "cell_type": "markdown",
   "id": "2e8c8a52-94d2-4d5c-8224-7947f64e2526",
   "metadata": {},
   "source": [
    "# PNAS Analysis Notebook\n",
    "\n",
    "Using Difference in L* (as it had the highest accuracy), MLE with set standard deviation (set to 1) with 4 learned parameters, and assuming homogeneity/consistence/uniformity of L axis.\n",
    "\n",
    "Sections:\n",
    " * Significance Testing\n",
    " * MLE\n",
    " * Curve Matching"
   ]
  },
  {
   "cell_type": "code",
   "execution_count": 1,
   "id": "474e4c17-ac0d-4502-afd4-be9472dbd263",
   "metadata": {},
   "outputs": [
    {
     "name": "stderr",
     "output_type": "stream",
     "text": [
      "\n",
      "Attaching package: ‘dplyr’\n",
      "\n",
      "The following objects are masked from ‘package:stats’:\n",
      "\n",
      "    filter, lag\n",
      "\n",
      "The following objects are masked from ‘package:base’:\n",
      "\n",
      "    intersect, setdiff, setequal, union\n",
      "\n",
      "\n",
      "Attaching package: ‘gridExtra’\n",
      "\n",
      "The following object is masked from ‘package:dplyr’:\n",
      "\n",
      "    combine\n",
      "\n"
     ]
    }
   ],
   "source": [
    "rm(list = ls())\n",
    "library(dplyr)\n",
    "library(reshape2)\n",
    "library(stringr)\n",
    "library(ggplot2)\n",
    "library(gridExtra)\n",
    "library(scales)\n",
    "library(patchwork)\n",
    "library(jtools)\n",
    "\n",
    "k <- 4\n",
    "source('./functions/clean_tidy_functions.R')\n",
    "source('./functions/hypothesis_spline_functions.R')\n",
    "source('./functions/discrete_mle_functions.R')\n",
    "source('./functions/curve_matching_functions.R')"
   ]
  },
  {
   "cell_type": "code",
   "execution_count": 2,
   "id": "1137de5a-4775-4f6b-87df-0d2caac36b4b",
   "metadata": {},
   "outputs": [],
   "source": [
    "wd <- '/vast/home/estark/Documents/qualtrics_analysis'"
   ]
  },
  {
   "cell_type": "markdown",
   "id": "062913e4-ab3e-41a1-ab2d-0266bf6c3c7f",
   "metadata": {},
   "source": [
    "## Load in Data and Preprocessing"
   ]
  },
  {
   "cell_type": "code",
   "execution_count": 3,
   "id": "06f237f7-2047-4411-a7f1-ea6951982f93",
   "metadata": {},
   "outputs": [],
   "source": [
    "d_form <- read.csv(paste(wd, '/data/gray_complete_data.csv', sep = ''))\n",
    "d_form <- d_form %>%\n",
    "    mutate(d1 = abs(Ls - Lt1),\n",
    "           d2 = abs(Ls - Lt2))"
   ]
  },
  {
   "cell_type": "code",
   "execution_count": 4,
   "id": "96ce1b8a-0ef8-47a5-bcbc-65f1563417a5",
   "metadata": {},
   "outputs": [
    {
     "data": {
      "text/html": [
       "<table>\n",
       "<thead><tr><th scope=col>X</th><th scope=col>ResponseId</th><th scope=col>trial</th><th scope=col>Ls</th><th scope=col>Lt1</th><th scope=col>Lt2</th><th scope=col>R</th><th scope=col>d1</th><th scope=col>d2</th></tr></thead>\n",
       "<tbody>\n",
       "\t<tr><td>1                </td><td>R_32Vfj9wnzJdLzjB</td><td>0                </td><td>70               </td><td>62.5             </td><td>82.5             </td><td>0                </td><td> 7.5             </td><td>12.5             </td></tr>\n",
       "\t<tr><td>2                </td><td>R_1LCD5sHcB2PUmw6</td><td>0                </td><td>60               </td><td>37.5             </td><td>87.5             </td><td>1                </td><td>22.5             </td><td>27.5             </td></tr>\n",
       "\t<tr><td>3                </td><td>R_1qesF3s0GnlK43X</td><td>0                </td><td>70               </td><td>40.0             </td><td>95.0             </td><td>1                </td><td>30.0             </td><td>25.0             </td></tr>\n",
       "\t<tr><td>4                </td><td>R_25m1o2lt4W07Yad</td><td>0                </td><td>60               </td><td>47.5             </td><td>75.0             </td><td>0                </td><td>12.5             </td><td>15.0             </td></tr>\n",
       "\t<tr><td>5                </td><td>R_1OpdRZ00psBoanF</td><td>0                </td><td>40               </td><td>10.0             </td><td>67.5             </td><td>0                </td><td>30.0             </td><td>27.5             </td></tr>\n",
       "\t<tr><td>6                </td><td>R_BrfaTodxmCJYLzb</td><td>0                </td><td>70               </td><td>47.5             </td><td>87.5             </td><td>1                </td><td>22.5             </td><td>17.5             </td></tr>\n",
       "</tbody>\n",
       "</table>\n"
      ],
      "text/latex": [
       "\\begin{tabular}{r|lllllllll}\n",
       " X & ResponseId & trial & Ls & Lt1 & Lt2 & R & d1 & d2\\\\\n",
       "\\hline\n",
       "\t 1                   & R\\_32Vfj9wnzJdLzjB & 0                   & 70                  & 62.5                & 82.5                & 0                   &  7.5                & 12.5               \\\\\n",
       "\t 2                   & R\\_1LCD5sHcB2PUmw6 & 0                   & 60                  & 37.5                & 87.5                & 1                   & 22.5                & 27.5               \\\\\n",
       "\t 3                   & R\\_1qesF3s0GnlK43X & 0                   & 70                  & 40.0                & 95.0                & 1                   & 30.0                & 25.0               \\\\\n",
       "\t 4                   & R\\_25m1o2lt4W07Yad & 0                   & 60                  & 47.5                & 75.0                & 0                   & 12.5                & 15.0               \\\\\n",
       "\t 5                   & R\\_1OpdRZ00psBoanF & 0                   & 40                  & 10.0                & 67.5                & 0                   & 30.0                & 27.5               \\\\\n",
       "\t 6                   & R\\_BrfaTodxmCJYLzb & 0                   & 70                  & 47.5                & 87.5                & 1                   & 22.5                & 17.5               \\\\\n",
       "\\end{tabular}\n"
      ],
      "text/markdown": [
       "\n",
       "| X | ResponseId | trial | Ls | Lt1 | Lt2 | R | d1 | d2 |\n",
       "|---|---|---|---|---|---|---|---|---|\n",
       "| 1                 | R_32Vfj9wnzJdLzjB | 0                 | 70                | 62.5              | 82.5              | 0                 |  7.5              | 12.5              |\n",
       "| 2                 | R_1LCD5sHcB2PUmw6 | 0                 | 60                | 37.5              | 87.5              | 1                 | 22.5              | 27.5              |\n",
       "| 3                 | R_1qesF3s0GnlK43X | 0                 | 70                | 40.0              | 95.0              | 1                 | 30.0              | 25.0              |\n",
       "| 4                 | R_25m1o2lt4W07Yad | 0                 | 60                | 47.5              | 75.0              | 0                 | 12.5              | 15.0              |\n",
       "| 5                 | R_1OpdRZ00psBoanF | 0                 | 40                | 10.0              | 67.5              | 0                 | 30.0              | 27.5              |\n",
       "| 6                 | R_BrfaTodxmCJYLzb | 0                 | 70                | 47.5              | 87.5              | 1                 | 22.5              | 17.5              |\n",
       "\n"
      ],
      "text/plain": [
       "  X ResponseId        trial Ls Lt1  Lt2  R d1   d2  \n",
       "1 1 R_32Vfj9wnzJdLzjB 0     70 62.5 82.5 0  7.5 12.5\n",
       "2 2 R_1LCD5sHcB2PUmw6 0     60 37.5 87.5 1 22.5 27.5\n",
       "3 3 R_1qesF3s0GnlK43X 0     70 40.0 95.0 1 30.0 25.0\n",
       "4 4 R_25m1o2lt4W07Yad 0     60 47.5 75.0 0 12.5 15.0\n",
       "5 5 R_1OpdRZ00psBoanF 0     40 10.0 67.5 0 30.0 27.5\n",
       "6 6 R_BrfaTodxmCJYLzb 0     70 47.5 87.5 1 22.5 17.5"
      ]
     },
     "metadata": {},
     "output_type": "display_data"
    }
   ],
   "source": [
    "d_form %>% head()"
   ]
  },
  {
   "cell_type": "markdown",
   "id": "b5866892-f24d-4d25-bf5d-beb7d1a287ca",
   "metadata": {},
   "source": [
    "## Significance Testing"
   ]
  },
  {
   "cell_type": "code",
   "execution_count": 5,
   "id": "52c8114c-9cc9-44d9-9899-c28ac2d54266",
   "metadata": {},
   "outputs": [
    {
     "name": "stderr",
     "output_type": "stream",
     "text": [
      "`summarise()` has grouped output by 'Ls', 'Lt1', 'Lt2', 'd1'. You can override using the `.groups` argument.\n",
      "`summarise()` has grouped output by 'dbar'. You can override using the `.groups` argument.\n"
     ]
    }
   ],
   "source": [
    "d_form_sig <- d_form %>% \n",
    "    group_by(Ls, Lt1, Lt2, d1, d2) %>%\n",
    "    summarise(c_test2 = sum(R), tot = n()) %>%\n",
    "    mutate(dbar = 0.5*(d1 + d2), dd = abs(d1 - d2))\n",
    "d_form_sig$correct <- 0\n",
    "d_form_sig <- d_form_sig %>%\n",
    "    mutate(correct = replace(correct, d1 < d2, c_test2),\n",
    "           correct = replace(correct, d1 > d2, tot - c_test2)) %>%\n",
    "    group_by(dbar, dd) %>%\n",
    "    summarise(acc = sum(correct) / sum(tot))"
   ]
  },
  {
   "cell_type": "code",
   "execution_count": 6,
   "id": "d27c5759-69bb-462e-abc0-586805b0b477",
   "metadata": {},
   "outputs": [
    {
     "data": {
      "text/html": [
       "<table>\n",
       "<thead><tr><th scope=col>dbar</th><th scope=col>dd</th><th scope=col>acc</th></tr></thead>\n",
       "<tbody>\n",
       "\t<tr><td> 1.25    </td><td> 2.5     </td><td>0.6195965</td></tr>\n",
       "\t<tr><td> 2.50    </td><td> 5.0     </td><td>0.7020893</td></tr>\n",
       "\t<tr><td> 3.75    </td><td> 2.5     </td><td>0.6278896</td></tr>\n",
       "\t<tr><td> 5.00    </td><td> 5.0     </td><td>0.7550432</td></tr>\n",
       "\t<tr><td> 5.00    </td><td>10.0     </td><td>0.7427954</td></tr>\n",
       "\t<tr><td> 6.25    </td><td> 2.5     </td><td>0.6750720</td></tr>\n",
       "\t<tr><td> 7.50    </td><td> 5.0     </td><td>0.6539896</td></tr>\n",
       "\t<tr><td> 7.50    </td><td>10.0     </td><td>0.7925072</td></tr>\n",
       "\t<tr><td> 8.75    </td><td> 2.5     </td><td>0.5410663</td></tr>\n",
       "\t<tr><td>10.00    </td><td> 5.0     </td><td>0.6624585</td></tr>\n",
       "\t<tr><td>10.00    </td><td>10.0     </td><td>0.7669308</td></tr>\n",
       "\t<tr><td>11.25    </td><td> 2.5     </td><td>0.6095101</td></tr>\n",
       "\t<tr><td>12.50    </td><td> 5.0     </td><td>0.6934438</td></tr>\n",
       "\t<tr><td>12.50    </td><td>10.0     </td><td>0.7230514</td></tr>\n",
       "\t<tr><td>13.75    </td><td> 2.5     </td><td>0.5722772</td></tr>\n",
       "\t<tr><td>15.00    </td><td> 5.0     </td><td>0.6059701</td></tr>\n",
       "\t<tr><td>15.00    </td><td>10.0     </td><td>0.6681581</td></tr>\n",
       "\t<tr><td>16.25    </td><td> 2.5     </td><td>0.5394040</td></tr>\n",
       "\t<tr><td>17.50    </td><td> 5.0     </td><td>0.4751441</td></tr>\n",
       "\t<tr><td>17.50    </td><td>10.0     </td><td>0.6644407</td></tr>\n",
       "\t<tr><td>18.75    </td><td> 2.5     </td><td>0.4549712</td></tr>\n",
       "\t<tr><td>20.00    </td><td> 5.0     </td><td>0.5757072</td></tr>\n",
       "\t<tr><td>20.00    </td><td>10.0     </td><td>0.6563847</td></tr>\n",
       "\t<tr><td>21.25    </td><td> 2.5     </td><td>0.6033862</td></tr>\n",
       "\t<tr><td>22.50    </td><td> 5.0     </td><td>0.6340058</td></tr>\n",
       "\t<tr><td>22.50    </td><td>10.0     </td><td>0.6471761</td></tr>\n",
       "\t<tr><td>23.75    </td><td> 2.5     </td><td>0.5208609</td></tr>\n",
       "\t<tr><td>25.00    </td><td> 5.0     </td><td>0.5496689</td></tr>\n",
       "\t<tr><td>25.00    </td><td>10.0     </td><td>0.6685879</td></tr>\n",
       "\t<tr><td>26.25    </td><td> 2.5     </td><td>0.5176860</td></tr>\n",
       "\t<tr><td>27.50    </td><td> 5.0     </td><td>0.5335537</td></tr>\n",
       "\t<tr><td>28.75    </td><td> 2.5     </td><td>0.5297837</td></tr>\n",
       "</tbody>\n",
       "</table>\n"
      ],
      "text/latex": [
       "\\begin{tabular}{r|lll}\n",
       " dbar & dd & acc\\\\\n",
       "\\hline\n",
       "\t  1.25     &  2.5      & 0.6195965\\\\\n",
       "\t  2.50     &  5.0      & 0.7020893\\\\\n",
       "\t  3.75     &  2.5      & 0.6278896\\\\\n",
       "\t  5.00     &  5.0      & 0.7550432\\\\\n",
       "\t  5.00     & 10.0      & 0.7427954\\\\\n",
       "\t  6.25     &  2.5      & 0.6750720\\\\\n",
       "\t  7.50     &  5.0      & 0.6539896\\\\\n",
       "\t  7.50     & 10.0      & 0.7925072\\\\\n",
       "\t  8.75     &  2.5      & 0.5410663\\\\\n",
       "\t 10.00     &  5.0      & 0.6624585\\\\\n",
       "\t 10.00     & 10.0      & 0.7669308\\\\\n",
       "\t 11.25     &  2.5      & 0.6095101\\\\\n",
       "\t 12.50     &  5.0      & 0.6934438\\\\\n",
       "\t 12.50     & 10.0      & 0.7230514\\\\\n",
       "\t 13.75     &  2.5      & 0.5722772\\\\\n",
       "\t 15.00     &  5.0      & 0.6059701\\\\\n",
       "\t 15.00     & 10.0      & 0.6681581\\\\\n",
       "\t 16.25     &  2.5      & 0.5394040\\\\\n",
       "\t 17.50     &  5.0      & 0.4751441\\\\\n",
       "\t 17.50     & 10.0      & 0.6644407\\\\\n",
       "\t 18.75     &  2.5      & 0.4549712\\\\\n",
       "\t 20.00     &  5.0      & 0.5757072\\\\\n",
       "\t 20.00     & 10.0      & 0.6563847\\\\\n",
       "\t 21.25     &  2.5      & 0.6033862\\\\\n",
       "\t 22.50     &  5.0      & 0.6340058\\\\\n",
       "\t 22.50     & 10.0      & 0.6471761\\\\\n",
       "\t 23.75     &  2.5      & 0.5208609\\\\\n",
       "\t 25.00     &  5.0      & 0.5496689\\\\\n",
       "\t 25.00     & 10.0      & 0.6685879\\\\\n",
       "\t 26.25     &  2.5      & 0.5176860\\\\\n",
       "\t 27.50     &  5.0      & 0.5335537\\\\\n",
       "\t 28.75     &  2.5      & 0.5297837\\\\\n",
       "\\end{tabular}\n"
      ],
      "text/markdown": [
       "\n",
       "| dbar | dd | acc |\n",
       "|---|---|---|\n",
       "|  1.25     |  2.5      | 0.6195965 |\n",
       "|  2.50     |  5.0      | 0.7020893 |\n",
       "|  3.75     |  2.5      | 0.6278896 |\n",
       "|  5.00     |  5.0      | 0.7550432 |\n",
       "|  5.00     | 10.0      | 0.7427954 |\n",
       "|  6.25     |  2.5      | 0.6750720 |\n",
       "|  7.50     |  5.0      | 0.6539896 |\n",
       "|  7.50     | 10.0      | 0.7925072 |\n",
       "|  8.75     |  2.5      | 0.5410663 |\n",
       "| 10.00     |  5.0      | 0.6624585 |\n",
       "| 10.00     | 10.0      | 0.7669308 |\n",
       "| 11.25     |  2.5      | 0.6095101 |\n",
       "| 12.50     |  5.0      | 0.6934438 |\n",
       "| 12.50     | 10.0      | 0.7230514 |\n",
       "| 13.75     |  2.5      | 0.5722772 |\n",
       "| 15.00     |  5.0      | 0.6059701 |\n",
       "| 15.00     | 10.0      | 0.6681581 |\n",
       "| 16.25     |  2.5      | 0.5394040 |\n",
       "| 17.50     |  5.0      | 0.4751441 |\n",
       "| 17.50     | 10.0      | 0.6644407 |\n",
       "| 18.75     |  2.5      | 0.4549712 |\n",
       "| 20.00     |  5.0      | 0.5757072 |\n",
       "| 20.00     | 10.0      | 0.6563847 |\n",
       "| 21.25     |  2.5      | 0.6033862 |\n",
       "| 22.50     |  5.0      | 0.6340058 |\n",
       "| 22.50     | 10.0      | 0.6471761 |\n",
       "| 23.75     |  2.5      | 0.5208609 |\n",
       "| 25.00     |  5.0      | 0.5496689 |\n",
       "| 25.00     | 10.0      | 0.6685879 |\n",
       "| 26.25     |  2.5      | 0.5176860 |\n",
       "| 27.50     |  5.0      | 0.5335537 |\n",
       "| 28.75     |  2.5      | 0.5297837 |\n",
       "\n"
      ],
      "text/plain": [
       "   dbar  dd   acc      \n",
       "1   1.25  2.5 0.6195965\n",
       "2   2.50  5.0 0.7020893\n",
       "3   3.75  2.5 0.6278896\n",
       "4   5.00  5.0 0.7550432\n",
       "5   5.00 10.0 0.7427954\n",
       "6   6.25  2.5 0.6750720\n",
       "7   7.50  5.0 0.6539896\n",
       "8   7.50 10.0 0.7925072\n",
       "9   8.75  2.5 0.5410663\n",
       "10 10.00  5.0 0.6624585\n",
       "11 10.00 10.0 0.7669308\n",
       "12 11.25  2.5 0.6095101\n",
       "13 12.50  5.0 0.6934438\n",
       "14 12.50 10.0 0.7230514\n",
       "15 13.75  2.5 0.5722772\n",
       "16 15.00  5.0 0.6059701\n",
       "17 15.00 10.0 0.6681581\n",
       "18 16.25  2.5 0.5394040\n",
       "19 17.50  5.0 0.4751441\n",
       "20 17.50 10.0 0.6644407\n",
       "21 18.75  2.5 0.4549712\n",
       "22 20.00  5.0 0.5757072\n",
       "23 20.00 10.0 0.6563847\n",
       "24 21.25  2.5 0.6033862\n",
       "25 22.50  5.0 0.6340058\n",
       "26 22.50 10.0 0.6471761\n",
       "27 23.75  2.5 0.5208609\n",
       "28 25.00  5.0 0.5496689\n",
       "29 25.00 10.0 0.6685879\n",
       "30 26.25  2.5 0.5176860\n",
       "31 27.50  5.0 0.5335537\n",
       "32 28.75  2.5 0.5297837"
      ]
     },
     "metadata": {},
     "output_type": "display_data"
    }
   ],
   "source": [
    "d_form_sig"
   ]
  },
  {
   "cell_type": "code",
   "execution_count": 7,
   "id": "d147868c-b3cd-4bec-9f0a-4f70a9cc3aec",
   "metadata": {},
   "outputs": [],
   "source": [
    "d_form_sig$dum_dd5 <- 0\n",
    "d_form_sig[which(abs(d_form_sig$dd) == 5), 'dum_dd5'] <- 1\n",
    "\n",
    "d_form_sig$dum_dd10 <- 0\n",
    "d_form_sig[which(abs(d_form_sig$dd) == 10), 'dum_dd10'] <- 1"
   ]
  },
  {
   "cell_type": "code",
   "execution_count": 8,
   "id": "b739be46-9ef7-4383-87b7-d017e6e18e77",
   "metadata": {},
   "outputs": [
    {
     "data": {
      "text/html": [
       "<table>\n",
       "<thead><tr><th scope=col>dbar</th><th scope=col>dd</th><th scope=col>acc</th><th scope=col>dum_dd5</th><th scope=col>dum_dd10</th></tr></thead>\n",
       "<tbody>\n",
       "\t<tr><td>1.25     </td><td> 2.5     </td><td>0.6195965</td><td>0        </td><td>0        </td></tr>\n",
       "\t<tr><td>2.50     </td><td> 5.0     </td><td>0.7020893</td><td>1        </td><td>0        </td></tr>\n",
       "\t<tr><td>3.75     </td><td> 2.5     </td><td>0.6278896</td><td>0        </td><td>0        </td></tr>\n",
       "\t<tr><td>5.00     </td><td> 5.0     </td><td>0.7550432</td><td>1        </td><td>0        </td></tr>\n",
       "\t<tr><td>5.00     </td><td>10.0     </td><td>0.7427954</td><td>0        </td><td>1        </td></tr>\n",
       "\t<tr><td>6.25     </td><td> 2.5     </td><td>0.6750720</td><td>0        </td><td>0        </td></tr>\n",
       "</tbody>\n",
       "</table>\n"
      ],
      "text/latex": [
       "\\begin{tabular}{r|lllll}\n",
       " dbar & dd & acc & dum\\_dd5 & dum\\_dd10\\\\\n",
       "\\hline\n",
       "\t 1.25      &  2.5      & 0.6195965 & 0         & 0        \\\\\n",
       "\t 2.50      &  5.0      & 0.7020893 & 1         & 0        \\\\\n",
       "\t 3.75      &  2.5      & 0.6278896 & 0         & 0        \\\\\n",
       "\t 5.00      &  5.0      & 0.7550432 & 1         & 0        \\\\\n",
       "\t 5.00      & 10.0      & 0.7427954 & 0         & 1        \\\\\n",
       "\t 6.25      &  2.5      & 0.6750720 & 0         & 0        \\\\\n",
       "\\end{tabular}\n"
      ],
      "text/markdown": [
       "\n",
       "| dbar | dd | acc | dum_dd5 | dum_dd10 |\n",
       "|---|---|---|---|---|\n",
       "| 1.25      |  2.5      | 0.6195965 | 0         | 0         |\n",
       "| 2.50      |  5.0      | 0.7020893 | 1         | 0         |\n",
       "| 3.75      |  2.5      | 0.6278896 | 0         | 0         |\n",
       "| 5.00      |  5.0      | 0.7550432 | 1         | 0         |\n",
       "| 5.00      | 10.0      | 0.7427954 | 0         | 1         |\n",
       "| 6.25      |  2.5      | 0.6750720 | 0         | 0         |\n",
       "\n"
      ],
      "text/plain": [
       "  dbar dd   acc       dum_dd5 dum_dd10\n",
       "1 1.25  2.5 0.6195965 0       0       \n",
       "2 2.50  5.0 0.7020893 1       0       \n",
       "3 3.75  2.5 0.6278896 0       0       \n",
       "4 5.00  5.0 0.7550432 1       0       \n",
       "5 5.00 10.0 0.7427954 0       1       \n",
       "6 6.25  2.5 0.6750720 0       0       "
      ]
     },
     "metadata": {},
     "output_type": "display_data"
    }
   ],
   "source": [
    "d_form_sig %>% head()"
   ]
  },
  {
   "cell_type": "code",
   "execution_count": 9,
   "id": "5ab3415e-427f-4a73-adff-85357964356d",
   "metadata": {},
   "outputs": [
    {
     "data": {
      "text/plain": [
       "   Min. 1st Qu.  Median    Mean 3rd Qu.    Max. \n",
       " 0.4550  0.5475  0.6309  0.6245  0.6702  0.7925 "
      ]
     },
     "metadata": {},
     "output_type": "display_data"
    }
   ],
   "source": [
    "summary(d_form_sig$acc)"
   ]
  },
  {
   "cell_type": "markdown",
   "id": "fe837ef1-6d2d-4e62-b627-bd495ae9f45b",
   "metadata": {},
   "source": [
    "### Linear Regression"
   ]
  },
  {
   "cell_type": "code",
   "execution_count": 10,
   "id": "2c074485-d92a-4b7f-9426-c4470eb692aa",
   "metadata": {},
   "outputs": [],
   "source": [
    "lm_out_sc <- lm(scale(acc) ~ dum_dd5 + dum_dd10 + scale(dbar), data = d_form_sig)"
   ]
  },
  {
   "cell_type": "code",
   "execution_count": 11,
   "id": "f5047937-36d5-4d55-9a8f-a3821531ee04",
   "metadata": {},
   "outputs": [
    {
     "data": {
      "text/plain": [
       "\n",
       "Call:\n",
       "lm(formula = scale(acc) ~ dum_dd5 + dum_dd10 + scale(dbar), data = d_form_sig)\n",
       "\n",
       "Residuals:\n",
       "     Min       1Q   Median       3Q      Max \n",
       "-1.53321 -0.20513 -0.06391  0.32367  0.85873 \n",
       "\n",
       "Coefficients:\n",
       "            Estimate Std. Error t value Pr(>|t|)    \n",
       "(Intercept) -0.66214    0.15755  -4.203 0.000243 ***\n",
       "dum_dd5      0.63254    0.22782   2.777 0.009687 ** \n",
       "dum_dd10     1.58118    0.24066   6.570 4.00e-07 ***\n",
       "scale(dbar) -0.56189    0.09802  -5.732 3.77e-06 ***\n",
       "---\n",
       "Signif. codes:  0 ‘***’ 0.001 ‘**’ 0.01 ‘*’ 0.05 ‘.’ 0.1 ‘ ’ 1\n",
       "\n",
       "Residual standard error: 0.5458 on 28 degrees of freedom\n",
       "Multiple R-squared:  0.731,\tAdjusted R-squared:  0.7021 \n",
       "F-statistic: 25.36 on 3 and 28 DF,  p-value: 3.903e-08\n"
      ]
     },
     "metadata": {},
     "output_type": "display_data"
    }
   ],
   "source": [
    "summary(lm_out_sc)"
   ]
  },
  {
   "cell_type": "code",
   "execution_count": 12,
   "id": "459213a6-aba1-4b58-b6ad-b6c6aa28ca0d",
   "metadata": {},
   "outputs": [],
   "source": [
    "lm_out <- lm(acc ~ dum_dd5 + dum_dd10 + dbar, data = d_form_sig)"
   ]
  },
  {
   "cell_type": "code",
   "execution_count": 13,
   "id": "4854fc4c-7444-495c-91be-95b62bdbdfd5",
   "metadata": {},
   "outputs": [
    {
     "data": {
      "text/plain": [
       "\n",
       "Call:\n",
       "lm(formula = acc ~ dum_dd5 + dum_dd10 + dbar, data = d_form_sig)\n",
       "\n",
       "Residuals:\n",
       "      Min        1Q    Median        3Q       Max \n",
       "-0.131594 -0.017606 -0.005485  0.027780  0.073704 \n",
       "\n",
       "Coefficients:\n",
       "             Estimate Std. Error t value Pr(>|t|)    \n",
       "(Intercept)  0.658690   0.020862  31.573  < 2e-16 ***\n",
       "dum_dd5      0.054291   0.019553   2.777  0.00969 ** \n",
       "dum_dd10     0.135712   0.020656   6.570 4.00e-07 ***\n",
       "dbar        -0.006071   0.001059  -5.732 3.77e-06 ***\n",
       "---\n",
       "Signif. codes:  0 ‘***’ 0.001 ‘**’ 0.01 ‘*’ 0.05 ‘.’ 0.1 ‘ ’ 1\n",
       "\n",
       "Residual standard error: 0.04684 on 28 degrees of freedom\n",
       "Multiple R-squared:  0.731,\tAdjusted R-squared:  0.7021 \n",
       "F-statistic: 25.36 on 3 and 28 DF,  p-value: 3.903e-08\n"
      ]
     },
     "metadata": {},
     "output_type": "display_data"
    }
   ],
   "source": [
    "summary(lm_out)"
   ]
  },
  {
   "cell_type": "code",
   "execution_count": 14,
   "id": "b1575b91-8815-4119-bd72-5d5c0265dbf0",
   "metadata": {},
   "outputs": [],
   "source": [
    "preg <- ggplot(d_form_sig, aes(x = dbar, y = acc, color = as.factor(abs(dd)))) + geom_point() + geom_smooth(method = 'lm', se = TRUE) + theme_bw() +\n",
    "    ylab('Accuracy') + xlab(expression('Average Difference,'~bar(d))) + scale_color_discrete(name = expression(Delta*d))"
   ]
  },
  {
   "cell_type": "code",
   "execution_count": 15,
   "id": "6c12a748-ff2a-4587-a964-595d34ca8728",
   "metadata": {},
   "outputs": [
    {
     "name": "stderr",
     "output_type": "stream",
     "text": [
      "`geom_smooth()` using formula 'y ~ x'\n"
     ]
    },
    {
     "data": {
      "image/png": "[encoded data removed]",
      "text/plain": [
       "plot without title"
      ]
     },
     "metadata": {},
     "output_type": "display_data"
    }
   ],
   "source": [
    "preg"
   ]
  },
  {
   "cell_type": "code",
   "execution_count": 16,
   "id": "0c9100a7-cb92-43d4-a002-05a1c5737008",
   "metadata": {},
   "outputs": [],
   "source": [
    "# ggsave(paste(wd, '/output/2021.10.20.PNAS/reg.png', sep = ''), preg, height = 6, width = 7)"
   ]
  },
  {
   "cell_type": "markdown",
   "id": "62c94876-8bd7-4a96-9a8b-6ea6fd431a0b",
   "metadata": {},
   "source": [
    "## Experimental Design"
   ]
  },
  {
   "cell_type": "code",
   "execution_count": 17,
   "id": "13df1f70-aaff-401f-b2f8-a2b1e3237751",
   "metadata": {},
   "outputs": [],
   "source": [
    "p_exp <- d_form %>% ggplot(aes(x = d1, y = d2)) + geom_point() + theme_bw() +\n",
    "    xlab('Difference Between Test 1 and Standard') +\n",
    "    ylab('Difference Between Test 2 and Standard')"
   ]
  },
  {
   "cell_type": "code",
   "execution_count": 18,
   "id": "9597fbdf-399d-47c2-a5a2-341a45dedf92",
   "metadata": {},
   "outputs": [
    {
     "data": {
      "image/png": "[encoded data removed]",
      "text/plain": [
       "plot without title"
      ]
     },
     "metadata": {},
     "output_type": "display_data"
    }
   ],
   "source": [
    "p_exp"
   ]
  },
  {
   "cell_type": "code",
   "execution_count": null,
   "id": "a0c8f176-1b8a-4cae-a988-8ae8f2901ff9",
   "metadata": {},
   "outputs": [],
   "source": [
    "# ggsave(paste(wd, '/output/2021.10.20.PNAS/exp.png', sep = ''), p_exp, height = 7, width = 7)"
   ]
  },
  {
   "cell_type": "markdown",
   "id": "cc17b258-e550-41eb-8c45-1b78a74e5da4",
   "metadata": {},
   "source": [
    "## MLE"
   ]
  },
  {
   "cell_type": "code",
   "execution_count": 19,
   "id": "8080709f-6dcc-4fb3-abc3-4ccb498ed14e",
   "metadata": {},
   "outputs": [
    {
     "name": "stdout",
     "output_type": "stream",
     "text": [
      "  |====================================================================================================| 100%"
     ]
    }
   ],
   "source": [
    "my_sd <- 1\n",
    "agg_mle_better_k4_med <- multi_mle_better(d_form, 4, my_sd)"
   ]
  },
  {
   "cell_type": "code",
   "execution_count": 20,
   "id": "9436bd7d-8199-4b14-ab5a-414cd7691b79",
   "metadata": {},
   "outputs": [],
   "source": [
    "weighted_ave <- c()\n",
    "for(i in 1:5){\n",
    "    weighted_ave <- c(weighted_ave, weighted.mean(x = agg_mle_better_k4_med$f_df[,i],\n",
    "                                                  w = -agg_mle_better_k4_med$NLLs[]))\n",
    "}"
   ]
  },
  {
   "cell_type": "code",
   "execution_count": 21,
   "id": "534cbbc3-906f-4032-abc6-2df5e820f271",
   "metadata": {},
   "outputs": [],
   "source": [
    "mind <- min(c(d_form$d1, d_form$d2))\n",
    "maxd <- max(c(d_form$d1, d_form$d2))\n",
    "x <- seq(mind, maxd, length.out = 5)"
   ]
  },
  {
   "cell_type": "code",
   "execution_count": 22,
   "id": "3d332d58-f143-464a-9afe-d379bbe2b37c",
   "metadata": {},
   "outputs": [],
   "source": [
    "x_plot <- seq(mind, maxd, length.out = 1000)\n",
    "y_plot <- splinefun(x, weighted_ave, 'monoH.FC')(x_plot)"
   ]
  },
  {
   "cell_type": "code",
   "execution_count": 23,
   "id": "29263698-66f6-4dc8-8029-3230911da45f",
   "metadata": {},
   "outputs": [
    {
     "data": {
      "image/png": "[encoded data removed]",
      "text/plain": [
       "plot without title"
      ]
     },
     "metadata": {},
     "output_type": "display_data"
    }
   ],
   "source": [
    "ggplot() + geom_point(aes(x = x, y = weighted_ave)) + \n",
    "    geom_line(aes(x = x_plot, y = y_plot)) +\n",
    "    ylab('Perceived Difference') + xlab(expression(Delta*{L^{'*'}}*'(stand,test)')) + theme_bw()"
   ]
  },
  {
   "cell_type": "markdown",
   "id": "a5aa0080-f403-49b2-a13b-25bae3dfe680",
   "metadata": {
    "tags": []
   },
   "source": [
    "## Curve Matching"
   ]
  },
  {
   "cell_type": "code",
   "execution_count": 24,
   "id": "03c79d5a-3e0e-4cf9-a05b-09f30a11fc69",
   "metadata": {},
   "outputs": [],
   "source": [
    "con_df <- as.data.frame(cbind(x, weighted_ave))"
   ]
  },
  {
   "cell_type": "code",
   "execution_count": 25,
   "id": "3e938785-bc49-4a80-b53b-76c85346dd6d",
   "metadata": {},
   "outputs": [],
   "source": [
    "names(con_df) <- c('dis_x', 'dis_y')"
   ]
  },
  {
   "cell_type": "code",
   "execution_count": 26,
   "id": "2291432d-9459-413d-b297-18239553c264",
   "metadata": {},
   "outputs": [],
   "source": [
    "con_df$dis_x <- con_df$dis_x / max(con_df$dis_x)\n",
    "con_df$dis_y <- con_df$dis_y / max(con_df$dis_y)"
   ]
  },
  {
   "cell_type": "code",
   "execution_count": 27,
   "id": "7bcc974a-0d67-4a12-8a9e-5924d116e222",
   "metadata": {},
   "outputs": [
    {
     "data": {
      "text/html": [
       "<table>\n",
       "<thead><tr><th scope=col>dis_x</th><th scope=col>dis_y</th></tr></thead>\n",
       "<tbody>\n",
       "\t<tr><td>0.00     </td><td>0.0000000</td></tr>\n",
       "\t<tr><td>0.25     </td><td>0.3955904</td></tr>\n",
       "\t<tr><td>0.50     </td><td>0.6897892</td></tr>\n",
       "\t<tr><td>0.75     </td><td>0.8316059</td></tr>\n",
       "\t<tr><td>1.00     </td><td>1.0000000</td></tr>\n",
       "</tbody>\n",
       "</table>\n"
      ],
      "text/latex": [
       "\\begin{tabular}{r|ll}\n",
       " dis\\_x & dis\\_y\\\\\n",
       "\\hline\n",
       "\t 0.00      & 0.0000000\\\\\n",
       "\t 0.25      & 0.3955904\\\\\n",
       "\t 0.50      & 0.6897892\\\\\n",
       "\t 0.75      & 0.8316059\\\\\n",
       "\t 1.00      & 1.0000000\\\\\n",
       "\\end{tabular}\n"
      ],
      "text/markdown": [
       "\n",
       "| dis_x | dis_y |\n",
       "|---|---|\n",
       "| 0.00      | 0.0000000 |\n",
       "| 0.25      | 0.3955904 |\n",
       "| 0.50      | 0.6897892 |\n",
       "| 0.75      | 0.8316059 |\n",
       "| 1.00      | 1.0000000 |\n",
       "\n"
      ],
      "text/plain": [
       "  dis_x dis_y    \n",
       "1 0.00  0.0000000\n",
       "2 0.25  0.3955904\n",
       "3 0.50  0.6897892\n",
       "4 0.75  0.8316059\n",
       "5 1.00  1.0000000"
      ]
     },
     "metadata": {},
     "output_type": "display_data"
    }
   ],
   "source": [
    "con_df"
   ]
  },
  {
   "cell_type": "code",
   "execution_count": 28,
   "id": "a5ecb11b-dad6-4e92-a64d-4123f16ca1b6",
   "metadata": {},
   "outputs": [],
   "source": [
    "dis_df <- con_df\n",
    "\n",
    "mac_l <- 0\n",
    "mac_h <- 1\n",
    "helm_l <- 0\n",
    "helm_h <- 50\n",
    "izm_l <- 1\n",
    "izm_h <- 10\n",
    "buj_l <- 1\n",
    "buj_h <- 10"
   ]
  },
  {
   "cell_type": "code",
   "execution_count": 29,
   "id": "999e5837-4f33-494e-a141-bb46d6e02298",
   "metadata": {},
   "outputs": [],
   "source": [
    "mac_par <- optimize(macadam_frac_exp, lower = mac_l, upper = mac_h)\n",
    "p <- mac_par$minimum\n",
    "\n",
    "helm_par <- optimize(helm_log, lower = helm_l, upper = helm_h)\n",
    "a <- helm_par$minimum\n",
    "\n",
    "izm_par <- optimize(izmailov_sin, lower = izm_l, upper = izm_h)\n",
    "c <- izm_par$minimum\n",
    "\n",
    "buj_par <- optimize(bujack_circle, lower = buj_l, upper = buj_h)\n",
    "d <- buj_par$minimum\n",
    "\n",
    "mac_curve_x <- seq(0, 1, length.out = 1000)\n",
    "m <- 1"
   ]
  },
  {
   "cell_type": "code",
   "execution_count": 30,
   "id": "fca21a19-d074-46ba-a5e6-a740dae956e1",
   "metadata": {},
   "outputs": [
    {
     "data": {
      "text/html": [
       "<dl>\n",
       "\t<dt>$minimum</dt>\n",
       "\t\t<dd>0.619798932814665</dd>\n",
       "\t<dt>$objective</dt>\n",
       "\t\t<dd>0.0215749649133536</dd>\n",
       "</dl>\n"
      ],
      "text/latex": [
       "\\begin{description}\n",
       "\\item[\\$minimum] 0.619798932814665\n",
       "\\item[\\$objective] 0.0215749649133536\n",
       "\\end{description}\n"
      ],
      "text/markdown": [
       "$minimum\n",
       ":   0.619798932814665\n",
       "$objective\n",
       ":   0.0215749649133536\n",
       "\n",
       "\n"
      ],
      "text/plain": [
       "$minimum\n",
       "[1] 0.6197989\n",
       "\n",
       "$objective\n",
       "[1] 0.02157496\n"
      ]
     },
     "metadata": {},
     "output_type": "display_data"
    }
   ],
   "source": [
    "mac_par"
   ]
  },
  {
   "cell_type": "code",
   "execution_count": 31,
   "id": "bc5636f9-6014-4b41-89a9-b52388025e6f",
   "metadata": {},
   "outputs": [
    {
     "data": {
      "text/html": [
       "<dl>\n",
       "\t<dt>$minimum</dt>\n",
       "\t\t<dd>3.13737220586302</dd>\n",
       "\t<dt>$objective</dt>\n",
       "\t\t<dd>0.0155647346313968</dd>\n",
       "</dl>\n"
      ],
      "text/latex": [
       "\\begin{description}\n",
       "\\item[\\$minimum] 3.13737220586302\n",
       "\\item[\\$objective] 0.0155647346313968\n",
       "\\end{description}\n"
      ],
      "text/markdown": [
       "$minimum\n",
       ":   3.13737220586302\n",
       "$objective\n",
       ":   0.0155647346313968\n",
       "\n",
       "\n"
      ],
      "text/plain": [
       "$minimum\n",
       "[1] 3.137372\n",
       "\n",
       "$objective\n",
       "[1] 0.01556473\n"
      ]
     },
     "metadata": {},
     "output_type": "display_data"
    }
   ],
   "source": [
    "helm_par"
   ]
  },
  {
   "cell_type": "code",
   "execution_count": 32,
   "id": "f00232ec-33b4-443b-b3bf-48100c622290",
   "metadata": {},
   "outputs": [
    {
     "data": {
      "text/html": [
       "<dl>\n",
       "\t<dt>$minimum</dt>\n",
       "\t\t<dd>1.0867802383562</dd>\n",
       "\t<dt>$objective</dt>\n",
       "\t\t<dd>0.0334272965065629</dd>\n",
       "</dl>\n"
      ],
      "text/latex": [
       "\\begin{description}\n",
       "\\item[\\$minimum] 1.0867802383562\n",
       "\\item[\\$objective] 0.0334272965065629\n",
       "\\end{description}\n"
      ],
      "text/markdown": [
       "$minimum\n",
       ":   1.0867802383562\n",
       "$objective\n",
       ":   0.0334272965065629\n",
       "\n",
       "\n"
      ],
      "text/plain": [
       "$minimum\n",
       "[1] 1.08678\n",
       "\n",
       "$objective\n",
       "[1] 0.0334273\n"
      ]
     },
     "metadata": {},
     "output_type": "display_data"
    }
   ],
   "source": [
    "izm_par"
   ]
  },
  {
   "cell_type": "code",
   "execution_count": 33,
   "id": "9b464486-d3ee-44bd-bf8a-52816936a058",
   "metadata": {},
   "outputs": [
    {
     "data": {
      "text/html": [
       "<dl>\n",
       "\t<dt>$minimum</dt>\n",
       "\t\t<dd>1.91157197319739</dd>\n",
       "\t<dt>$objective</dt>\n",
       "\t\t<dd>0.0161849804343733</dd>\n",
       "</dl>\n"
      ],
      "text/latex": [
       "\\begin{description}\n",
       "\\item[\\$minimum] 1.91157197319739\n",
       "\\item[\\$objective] 0.0161849804343733\n",
       "\\end{description}\n"
      ],
      "text/markdown": [
       "$minimum\n",
       ":   1.91157197319739\n",
       "$objective\n",
       ":   0.0161849804343733\n",
       "\n",
       "\n"
      ],
      "text/plain": [
       "$minimum\n",
       "[1] 1.911572\n",
       "\n",
       "$objective\n",
       "[1] 0.01618498\n"
      ]
     },
     "metadata": {},
     "output_type": "display_data"
    }
   ],
   "source": [
    "buj_par"
   ]
  },
  {
   "cell_type": "code",
   "execution_count": 34,
   "id": "35da5ee9-972b-4306-88e4-641c7bebec2d",
   "metadata": {},
   "outputs": [],
   "source": [
    "mac_curve_y <- (mac_curve_x^p)/(m^p)\n",
    "\n",
    "helm_curve_y <- log(a*mac_curve_x+1, 10)/log(a*m+1, 10)\n",
    "\n",
    "izm_curve_y <- sin(mac_curve_x*pi/(2*izm_par$minimum))/sin(m*pi/(2*izm_par$minimum))\n",
    "\n",
    "buj_curve_y <- -d + 1 + sqrt(d^2 + 2*d*mac_curve_x - mac_curve_x^2 - 2*d + 1)"
   ]
  },
  {
   "cell_type": "code",
   "execution_count": 35,
   "id": "06ac7c6a-b5b7-4200-a146-0e1563b9d8e2",
   "metadata": {},
   "outputs": [],
   "source": [
    "mac_df <- as.data.frame(cbind(mac_curve_x, mac_curve_y))\n",
    "names(mac_df) <- c('x', 'y')\n",
    "mac_df$lab <- 'MacAdam'\n",
    "\n",
    "helm_df <- as.data.frame(cbind(mac_curve_x, helm_curve_y))\n",
    "names(helm_df) <- c('x', 'y')\n",
    "helm_df$lab <- 'Helm'\n",
    "\n",
    "izm_df <- as.data.frame(cbind(mac_curve_x, izm_curve_y))\n",
    "names(izm_df) <- c('x', 'y')\n",
    "izm_df$lab <- 'Izmailov'\n",
    "\n",
    "buj_df <- as.data.frame(cbind(mac_curve_x, buj_curve_y))\n",
    "names(buj_df) <- c('x', 'y')\n",
    "buj_df$lab <- 'Circle'"
   ]
  },
  {
   "cell_type": "code",
   "execution_count": 36,
   "id": "17ee4c6a-b0d7-45a1-a8ff-6499a42d712c",
   "metadata": {},
   "outputs": [],
   "source": [
    "curve_df <- rbind(mac_df, helm_df)\n",
    "curve_df <- rbind(curve_df, izm_df)\n",
    "# curve_df <- rbind(curve_df, buj_df)"
   ]
  },
  {
   "cell_type": "code",
   "execution_count": 37,
   "id": "9a467770-e718-4272-af05-1649ab4d9449",
   "metadata": {},
   "outputs": [
    {
     "data": {
      "text/plain": [
       "   Min. 1st Qu.  Median    Mean 3rd Qu.    Max. \n",
       "   0.00    7.50   15.00   15.21   22.50   30.00 "
      ]
     },
     "metadata": {},
     "output_type": "display_data"
    }
   ],
   "source": [
    "summary(d_form$d1)"
   ]
  },
  {
   "cell_type": "code",
   "execution_count": 38,
   "id": "e7f5813e-5e10-43a0-b8c1-ffd63be5fa01",
   "metadata": {},
   "outputs": [
    {
     "data": {
      "image/png": "[encoded data removed]",
      "text/plain": [
       "plot without title"
      ]
     },
     "metadata": {},
     "output_type": "display_data"
    }
   ],
   "source": [
    "p_mle <- ggplot() + geom_point(aes(x = x, y = weighted_ave)) + \n",
    "    geom_line(aes(x = x_plot, y = y_plot)) +\n",
    "    ylab('Perceived Difference') + xlab(expression(Delta*{L^{'*'}}*'(stand,test)')) + theme_bw() +\n",
    "    geom_line(data = curve_df, aes(x = x*maxd, y = y*max(weighted_ave), color = lab), linetype = 'dashed') +\n",
    "    scale_color_discrete(name = 'Model', labels = c('Log', 'Sine', 'Poly')) + \n",
    "    geom_line(aes(x = c(0,30), y = c(0, max(weighted_ave))), linetype = 'dashed')\n",
    "\n",
    "p_mle"
   ]
  },
  {
   "cell_type": "code",
   "execution_count": 39,
   "id": "25d55342-b589-4f53-b800-037df38f1326",
   "metadata": {},
   "outputs": [],
   "source": [
    "# ggsave(paste(wd, '/output/2021.10.20.PNAS/continuous_mle_curves.png', sep = ''), p_mle, height = 6, width = 7)"
   ]
  },
  {
   "cell_type": "code",
   "execution_count": null,
   "id": "afe2921b-c521-446c-b435-695ea65aa5f9",
   "metadata": {},
   "outputs": [],
   "source": []
  }
 ],
 "metadata": {
  "kernelspec": {
   "display_name": "R",
   "language": "R",
   "name": "ir"
  },
  "language_info": {
   "codemirror_mode": "r",
   "file_extension": ".r",
   "mimetype": "text/x-r-source",
   "name": "R",
   "pygments_lexer": "r",
   "version": "3.6.1"
  }
 },
 "nbformat": 4,
 "nbformat_minor": 5
}
